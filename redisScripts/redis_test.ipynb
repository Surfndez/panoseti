{
 "cells": [
  {
   "cell_type": "code",
   "execution_count": 1,
   "metadata": {},
   "outputs": [],
   "source": [
    "import redis"
   ]
  },
  {
   "cell_type": "code",
   "execution_count": 2,
   "metadata": {},
   "outputs": [],
   "source": [
    "r = redis.Redis(host='localhost', port=6379, db=0)"
   ]
  },
  {
   "cell_type": "code",
   "execution_count": 10,
   "metadata": {},
   "outputs": [
    {
     "data": {
      "text/plain": [
       "True"
      ]
     },
     "execution_count": 10,
     "metadata": {},
     "output_type": "execute_result"
    }
   ],
   "source": [
    "r.set('foo', 'bar')"
   ]
  },
  {
   "cell_type": "code",
   "execution_count": 14,
   "metadata": {},
   "outputs": [
    {
     "data": {
      "text/plain": [
       "b'bar'"
      ]
     },
     "execution_count": 14,
     "metadata": {},
     "output_type": "execute_result"
    }
   ],
   "source": [
    "r.get('foo')"
   ]
  },
  {
   "cell_type": "code",
   "execution_count": 12,
   "metadata": {},
   "outputs": [
    {
     "data": {
      "text/plain": [
       "[b'foo']"
      ]
     },
     "execution_count": 12,
     "metadata": {},
     "output_type": "execute_result"
    }
   ],
   "source": [
    "r.keys()"
   ]
  },
  {
   "cell_type": "code",
   "execution_count": 17,
   "metadata": {},
   "outputs": [
    {
     "name": "stdout",
     "output_type": "stream",
     "text": [
      "None\n"
     ]
    }
   ],
   "source": [
    "print(r.get('test'))"
   ]
  },
  {
   "cell_type": "code",
   "execution_count": 36,
   "metadata": {},
   "outputs": [
    {
     "name": "stdout",
     "output_type": "stream",
     "text": [
      "[43552, 504, -40, -41, -42, 65493, 32767, 32768, 32769, -32766, 65492, 32771, 32772, 32773, 32774, 32775, 32776, 32777, 320, 38121, 32778, 32779, 1, 0, 0, 0, 192, 0, 0, 0, 0]\n"
     ]
    }
   ],
   "source": [
    "import socket\n",
    "import time\n",
    "HOST = '127.0.0.1'\n",
    "PORT = 60002\n",
    "\n",
    "PACKET = [\n",
    "    504,                        # BOARDLOC\n",
    "    -40, -41, -42, -43,          # HVMON (0 to -80V)\n",
    "    32767, 32768, 32769, 32770, # HVIMON ((65535-HVIMON) * 38.1nA) (0 to 2.5mA)\n",
    "    -44,                        # RAWHVMON (0 to -80V)\n",
    "    32771,                      # V12MON (19.07uV/LSB) (1.2V supply)\n",
    "    32772,                      # V18MON (19.07uV/LSB) (1.8V supply)\n",
    "    32773,                      # V33MON (38.10uV/LSB) (3.3V supply)\n",
    "    32774,                      # V37MON (38.10uV/LSB) (3.7V supply)\n",
    "    32775,                      # I10MON (182uA/LSB) (1.0V supply)\n",
    "    32776,                      # I18MON (37.8uA/LSB) (1.8V supply)\n",
    "    32777,                      # I33MON (37.8uA/LSB) (3.3V supply)\n",
    "    320,                        # TEMP1 (0.0625*N)\n",
    "    38121,                      # TEMP2 (N/130.04-273.15)\n",
    "    32778,                      # VCCINT (N*3/65536)\n",
    "    32779,                      # VCCAUX (N*3/65536)\n",
    "    1,0,0,0,                    # UID\n",
    "    3,                          # SHUTTER and LIGHT_SENSOR STATUS\n",
    "    0,                          # unused\n",
    "    0,0,0,0                     # FWID0 and FWID1\n",
    "]\n",
    "\n",
    "signed = [\n",
    "    0,                        # BOARDLOC\n",
    "    1, 1, 1, 1,          # HVMON (0 to -80V)\n",
    "    0, 0, 0, 0, # HVIMON ((65535-HVIMON) * 38.1nA) (0 to 2.5mA)\n",
    "    1,                        # RAWHVMON (0 to -80V)\n",
    "    0,                      # V12MON (19.07uV/LSB) (1.2V supply)\n",
    "    0,                      # V18MON (19.07uV/LSB) (1.8V supply)\n",
    "    0,                      # V33MON (38.10uV/LSB) (3.3V supply)\n",
    "    0,                      # V37MON (38.10uV/LSB) (3.7V supply)\n",
    "    0,                      # I10MON (182uA/LSB) (1.0V supply)\n",
    "    0,                      # I18MON (37.8uA/LSB) (1.8V supply)\n",
    "    0,                      # I33MON (37.8uA/LSB) (3.3V supply)\n",
    "    1,                        # TEMP1 (0.0625*N)\n",
    "    1,                      # TEMP2 (N/130.04-273.15)\n",
    "    0,                      # VCCINT (N*3/65536)\n",
    "    0,                      # VCCAUX (N*3/65536)\n",
    "    0,0,0,0,                    # UID\n",
    "    0,                        # SHUTTER and LIGHT_SENSOR STATUS\n",
    "    0,                        # unused\n",
    "    0,0,0,0                     # FWID0 and FWID1\n",
    "]\n",
    "\n",
    "packet1 = b'\\x20\\xaa'\n",
    "\n",
    "packet2 = b'\\x20\\x00'\n",
    "\n",
    "packet = packet1\n",
    "\n",
    "\n",
    "for i, sign in zip(PACKET, signed):\n",
    "    packet += i.to_bytes(2, 'little', signed=sign)\n",
    "    \n",
    "def updatePacket(template):\n",
    "    val = packet2\n",
    "    for i, sign in zip(PACKET, signed):\n",
    "        val += i.to_bytes(2, 'little', signed=sign)\n",
    "    return val\n",
    "\n",
    "with socket.socket(socket.AF_INET, socket.SOCK_DGRAM) as sock:\n",
    "    sock.sendto(packet, (HOST,PORT))\n",
    "    time.sleep(4)\n",
    "    \n",
    "    for i in range(NPACKETS-2):\n",
    "        packet = updatePacket(PACKET)\n",
    "        sock.sendto(packet, (HOST,PORT))\n",
    "        time.sleep(4)\n",
    "    \n",
    "    packet = updatePacket(PACKET)\n",
    "    sock.sendto(packet, (HOST,PORT))"
   ]
  },
  {
   "cell_type": "code",
   "execution_count": 24,
   "metadata": {},
   "outputs": [
    {
     "name": "stdout",
     "output_type": "stream",
     "text": [
      "Running\n",
      "None\n",
      "SIGINT or CTRL-C detected. Exiting\n"
     ]
    },
    {
     "ename": "SystemExit",
     "evalue": "0",
     "output_type": "error",
     "traceback": [
      "An exception has occurred, use %tb to see the full traceback.\n",
      "\u001b[0;31mSystemExit\u001b[0m\u001b[0;31m:\u001b[0m 0\n"
     ]
    }
   ],
   "source": [
    "import socket\n",
    "import redis\n",
    "from signal import signal, SIGINT\n",
    "from sys import exit\n",
    "\n",
    "HOST = '127.0.0.1'\n",
    "PORT = 60002\n",
    "NPACKETS = 5\n",
    "\n",
    "signed = [\n",
    "    0,                        # BOARDLOC\n",
    "    1, 1, 1, 1,          # HVMON (0 to -80V)\n",
    "    0, 0, 0, 0, # HVIMON ((65535-HVIMON) * 38.1nA) (0 to 2.5mA)\n",
    "    1,                        # RAWHVMON (0 to -80V)\n",
    "    0,                      # V12MON (19.07uV/LSB) (1.2V supply)\n",
    "    0,                      # V18MON (19.07uV/LSB) (1.8V supply)\n",
    "    0,                      # V33MON (38.10uV/LSB) (3.3V supply)\n",
    "    0,                      # V37MON (38.10uV/LSB) (3.7V supply)\n",
    "    0,                      # I10MON (182uA/LSB) (1.0V supply)\n",
    "    0,                      # I18MON (37.8uA/LSB) (1.8V supply)\n",
    "    0,                      # I33MON (37.8uA/LSB) (3.3V supply)\n",
    "    1,                        # TEMP1 (0.0625*N)\n",
    "    0,                      # TEMP2 (N/130.04-273.15)\n",
    "    0,                      # VCCINT (N*3/65536)\n",
    "    0,                      # VCCAUX (N*3/65536)\n",
    "    0,0,0,0,                    # UID\n",
    "    0,                        # SHUTTER and LIGHT_SENSOR STATUS\n",
    "    0,                        # unused\n",
    "    0,0,0,0                     # FWID0 and FWID1\n",
    "]\n",
    "\n",
    "sock = socket.socket(socket.AF_INET, socket.SOCK_DGRAM)\n",
    "\n",
    "r = redis.Redis(host='localhost', port=6379, db=0)\n",
    "\n",
    "def handler(signal_recieved, frame):\n",
    "    print('SIGINT or CTRL-C detected. Exiting')\n",
    "    sock.close()\n",
    "    exit(0)\n",
    "    \n",
    "def getUID(intArr):\n",
    "    b = b''\n",
    "    for i in intArr[::-1]:\n",
    "        b += i.to_bytes(2, byteorder='big')\n",
    "    return b.hex()\n",
    "    \n",
    "def storeInRedis(packet):\n",
    "    array = []\n",
    "    \n",
    "    if int.from_bytes(packet[0:1], byteorder='little') != 0x20:\n",
    "        return False\n",
    "    if int.from_bytes(packet[1:2], byteorder='little') == 0xaa:\n",
    "        r.set('StartUp', 1)\n",
    "    else:\n",
    "        r.set('StartUp', 0)\n",
    "        \n",
    "    for i, sign in zip(range(2,len(packet), 2), signed):\n",
    "        array.append(int.from_bytes(packet[i:i+2], byteorder='little', signed=sign))\n",
    "    \n",
    "    r.set('BOARDLOC', array[0])\n",
    "    r.set('HVMON0', array[1]*1.22/1000)\n",
    "    r.set('HVMON1', array[2]*1.22/1000)\n",
    "    r.set('HVMON2', array[3]*1.22/1000)\n",
    "    r.set('HVMON3', array[4]*1.22/1000)\n",
    "    \n",
    "    r.set('HVIMON0', (65535-array[5])*38.1/1000000)\n",
    "    r.set('HVIMON1', (65535-array[6])*38.1/1000000)\n",
    "    r.set('HVIMON2', (65535-array[7])*38.1/1000000)\n",
    "    r.set('HVIMON3', (65535-array[8])*38.1/1000000)\n",
    "    \n",
    "    r.set('RAWHVMON', array[9]*1.22/1000)\n",
    "    \n",
    "    r.set('V12MON', array[10]*19.07/1000000000)\n",
    "    r.set('V18MON', array[11]*19.07/1000000000)\n",
    "    r.set('V33MON', array[12]*38.1/1000000000)\n",
    "    r.set('V37MON', array[13]*38.1/1000000000)\n",
    "    \n",
    "    r.set('I10MON', array[14]*182/1000000)\n",
    "    r.set('I18MON', array[15]*37.8/1000000)\n",
    "    r.set('I33MON', array[16]*37.8/1000000)\n",
    "    \n",
    "    r.set('TEMP1', array[17]*0.0625)\n",
    "    r.set('TEMP2', array[18]*0.0625)\n",
    "    \n",
    "    r.set('VCCINT', array[19]*3/65536)\n",
    "    r.set('VCCAUX', array[20]*3/65536)\n",
    "     \n",
    "    r.set('UID', getUID(array[21:25]))#TODO NEED TO CHANGE\n",
    "    \n",
    "    r.set('SHUTTER_STATUS', array[25]&0x01)\n",
    "    r.set('LIGHT_SENSOR_STATUS', array[25]&0x02 >> 1)\n",
    "    \n",
    "    r.set('FWID0', array[27])\n",
    "    r.set('FWID0', array[28])\n",
    "    r.set('FWID0', array[29])\n",
    "    r.set('FWID0', array[30])\n",
    "    \n",
    "    \n",
    "signal(SIGINT, handler)\n",
    "\n",
    "print('Running')\n",
    "sock.bind((HOST,PORT))\n",
    "while(True):\n",
    "    packet = sock.recvfrom(64)"
   ]
  },
  {
   "cell_type": "code",
   "execution_count": 11,
   "metadata": {},
   "outputs": [
    {
     "name": "stdout",
     "output_type": "stream",
     "text": [
      "bytearray(b'test')\n"
     ]
    }
   ],
   "source": [
    "b = bytearray(\"test\", encoding=\"utf-8\")\n",
    "print(b)"
   ]
  },
  {
   "cell_type": "code",
   "execution_count": 26,
   "metadata": {},
   "outputs": [
    {
     "data": {
      "text/plain": [
       "b'1'"
      ]
     },
     "execution_count": 26,
     "metadata": {},
     "output_type": "execute_result"
    }
   ],
   "source": [
    "r.get('LIGHT_SENSOR_STATUS')"
   ]
  },
  {
   "cell_type": "code",
   "execution_count": 37,
   "metadata": {},
   "outputs": [
    {
     "ename": "SyntaxError",
     "evalue": "invalid syntax (<ipython-input-37-305f445fb509>, line 1)",
     "output_type": "error",
     "traceback": [
      "\u001b[0;36m  File \u001b[0;32m\"<ipython-input-37-305f445fb509>\"\u001b[0;36m, line \u001b[0;32m1\u001b[0m\n\u001b[0;31m    bytes(63489.to_bytes(2, 'big'))\u001b[0m\n\u001b[0m                       ^\u001b[0m\n\u001b[0;31mSyntaxError\u001b[0m\u001b[0;31m:\u001b[0m invalid syntax\n"
     ]
    }
   ],
   "source": []
  },
  {
   "cell_type": "code",
   "execution_count": 98,
   "metadata": {},
   "outputs": [
    {
     "name": "stdout",
     "output_type": "stream",
     "text": [
      "b'\\xc0\\x00'\n"
     ]
    }
   ],
   "source": [
    "i = 192#63489\n",
    "ib = i.to_bytes(2, 'little')\n",
    "print(ib)"
   ]
  },
  {
   "cell_type": "code",
   "execution_count": 65,
   "metadata": {},
   "outputs": [
    {
     "data": {
      "text/plain": [
       "-40"
      ]
     },
     "execution_count": 65,
     "metadata": {},
     "output_type": "execute_result"
    }
   ],
   "source": [
    "int.from_bytes(ib, 'little',signed=True)"
   ]
  },
  {
   "cell_type": "code",
   "execution_count": 55,
   "metadata": {},
   "outputs": [
    {
     "data": {
      "text/plain": [
       "b'()*+'"
      ]
     },
     "execution_count": 55,
     "metadata": {},
     "output_type": "execute_result"
    }
   ],
   "source": []
  },
  {
   "cell_type": "code",
   "execution_count": null,
   "metadata": {},
   "outputs": [],
   "source": []
  }
 ],
 "metadata": {
  "kernelspec": {
   "display_name": "Python 3",
   "language": "python",
   "name": "python3"
  }
 },
 "nbformat": 4,
 "nbformat_minor": 2
}
