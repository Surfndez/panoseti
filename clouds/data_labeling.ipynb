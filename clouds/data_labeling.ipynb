{
 "cells": [
  {
   "cell_type": "code",
   "execution_count": 45,
   "id": "87a9994a-0786-4fa8-8637-30ff0445781e",
   "metadata": {
    "tags": []
   },
   "outputs": [
    {
     "data": {
      "text/plain": [
       "<Figure size 1000x1000 with 0 Axes>"
      ]
     },
     "metadata": {},
     "output_type": "display_data"
    }
   ],
   "source": [
    "import time\n",
    "import hashlib\n",
    "import sys\n",
    "\n",
    "import numpy as np\n",
    "import pandas as pd\n",
    "from matplotlib import pyplot as plt\n",
    "\n",
    "from IPython import display\n",
    "import ipywidgets as widgets\n",
    "import tqdm.notebook as tqdm\n",
    "\n",
    "\n",
    "fig=plt.figure(figsize=(10, 10))\n",
    "%matplotlib inline"
   ]
  },
  {
   "cell_type": "code",
   "execution_count": 44,
   "id": "e5680638-64df-4160-8d4f-9a1e54e93ab9",
   "metadata": {
    "tags": []
   },
   "outputs": [
    {
     "name": "stdout",
     "output_type": "stream",
     "text": [
      "                                         uid  data label username\n",
      "0   da39a3ee5e6b4b0d3255bfef95601890afd80709     0  None     None\n",
      "1   5ba93c9db0cff93f52b521d7420e43f6eda2784f     1  None     None\n",
      "2   1489f923c4dca729178b3e3233458550d8dddf29     2  None     None\n",
      "3   29e2dcfbb16f63bb0254df7585a15bb6fb5e927d     3  None     None\n",
      "4   9069ca78e7450a285173431b3e52c5c25299e473     4  None     None\n",
      "..                                       ...   ...   ...      ...\n",
      "95  bd057d7f49143824e45263147a02a580137fabef    95  None     None\n",
      "96  c49a9785b2243f2f080daad1747f119acceccfa5    96  None     None\n",
      "97  fa205d2a65684c6245a2272facf45fb12ace4014    97  None     None\n",
      "98  a568e30784b1df87b30e1d4a2234de7b706b3d27    98  None     None\n",
      "99  d991c16949bd5e85e768385440e18d493ce3aa46    99  None     None\n",
      "\n",
      "[100 rows x 4 columns]\n"
     ]
    }
   ],
   "source": [
    "# For debugging and development.\n",
    "data = pd.DataFrame(columns=['uid', 'data', 'label', 'username'])\n",
    "for n in range(100):\n",
    "    data_uid = hashlib.sha1(bytes(n)).hexdigest()\n",
    "    data.loc[len(data)] = [data_uid, n, None, None]\n",
    "#data.loc[3, 'label']= 1\n",
    "print(data)"
   ]
  },
  {
   "cell_type": "code",
   "execution_count": 42,
   "id": "1a27a69c-bb3a-4680-954d-74bec9f3e14f",
   "metadata": {
    "tags": []
   },
   "outputs": [],
   "source": [
    "# Labeling interface\n",
    "\"\"\"\n",
    "def draw_widgets():\n",
    "    label_buttons = widgets.RadioButtons(\n",
    "        options=['pepperoni', 'pineapple', 'anchovies'],\n",
    "    #    value='pineapple', # Defaults to 'pineapple'\n",
    "    #    layout={'width': 'max-content'}, # If the items' names are long\n",
    "        description='Pizza topping:',\n",
    "        disabled=False\n",
    "    )\n",
    "    display.display(label_buttons)\n",
    "    \n",
    "    next_button = widgets.ToggleButton(\n",
    "    value=False,\n",
    "    description='Click me',\n",
    "    disabled=False,\n",
    "    button_style='', # 'success', 'info', 'warning', 'danger' or ''\n",
    "    tooltip='Description',\n",
    "    icon='check' # (FontAwesome names without the `fa-` prefix)\n",
    "    )\n",
    "    display.display(next_button)\n",
    "\n",
    "    return label_buttons, next_button\n",
    "\"\"\"\n",
    "\n",
    "labels = {\n",
    "    0: \"Not Cloudy\",\n",
    "    1: \"Cloudy\"\n",
    "}\n",
    "\n",
    "def do_simple_plot(n):\n",
    "    \"\"\"Plotting routine for debugging the labeling interface.\"\"\"\n",
    "    t = np.arange(0.0, 2.0, 0.01)\n",
    "    s = 1 + np.sin(2 * np.pi * t*n)\n",
    "\n",
    "    fig, ax = plt.subplots()\n",
    "    ax.plot(t, s)\n",
    "\n",
    "    ax.set(xlabel='time (s)', ylabel='voltage (mV)',\n",
    "           title='About as simple as it gets, folks')\n",
    "    ax.grid()\n",
    "    #plt.show()\n",
    "    plt.close()\n",
    "    return fig\n",
    "\n",
    "\n",
    "def get_valid_label_str(valid_labels):\n",
    "    \"\"\"\n",
    "    Params:\n",
    "        valid_labels: dictionary of image classes and their numeric encoding.\n",
    "        \n",
    "    Returns: string describing all valid labels and their encodings.\n",
    "    \"\"\"\n",
    "    s = \"\"\n",
    "    for key, val in labels.items():\n",
    "        s += f\"{key + 1}='{val}', \"\n",
    "    return s[:-2]\n",
    "\n",
    "\n",
    "def get_user_label():\n",
    "    \"\"\"Prompts and returns the label a user assigns to a given image.\"\"\"\n",
    "    valid_label_str = get_valid_label_str(labels)\n",
    "    valid_label = False\n",
    "    while not valid_label:\n",
    "#         print(f\"Valid labels:\\t{valid_label_str}.\\nYour label: \", end=\"\")\n",
    "#         label = input(\"\")\n",
    "        label = input(f\"Valid labels:\\t{valid_label_str}.\\nYour label: \")\n",
    "        if label.isnumeric() and int(label) - 1 in labels:\n",
    "            valid_label = True\n",
    "        elif label == 'exit':\n",
    "            return\n",
    "        else:\n",
    "            print(f\"\\x1b[31mError:\\t   '{label}' -->  is not a valid label. \"\n",
    "                  \"(To exit the session, type 'exit'.)\\x1b[0m\\n\")\n",
    "    return label\n",
    "\n",
    "\n",
    "\n",
    "def get_label_session(df, labeler_name):\n",
    "    \"\"\"Constructor for labeling interface.\n",
    "    Params: \n",
    "        df: DataFrame containing metadata about unlabeled data points.\n",
    "        labeler_name: Name of person doing the labeling.\n",
    "    \"\"\"\n",
    "    unlabeled_data = df[df.label.isnull()]\n",
    "    #print(unlabeled_data.index)\n",
    "    num_imgs = len(unlabeled_data)\n",
    "    \n",
    "    def status_msg_generator(num_divisions=10):\n",
    "        \"\"\"Generate status progress bar\"\"\"\n",
    "        itr_num = 1\n",
    "        while True:\n",
    "            progress_str = '#'*itr_num + '.'*(num_imgs - itr_num)\n",
    "            msg = f\"[{progress_str}]\" + f\"\\t{itr_num} / {num_imgs}\\n\"\n",
    "            itr_num += 1\n",
    "            yield msg\n",
    "\n",
    "    \n",
    "    def start_label_session():\n",
    "        \"\"\"Labeling interface.\"\"\"\n",
    "        if num_imgs == 0:\n",
    "            print(\"All available data is labeled! \\N{grinning face}\")\n",
    "            return \n",
    "        progress = status_msg_generator()\n",
    "        for i in unlabeled_data.index:\n",
    "            data = unlabeled_data.loc[i, 'data']\n",
    "            fig = do_simple_plot(data)\n",
    "            \n",
    "            display.clear_output(wait=True)\n",
    "            print(next(progress))\n",
    "            display.display(fig)\n",
    "            \n",
    "            \n",
    "            label = get_user_label()\n",
    "            df.loc[i, ['label', 'username']] = [label, labeler_name]\n",
    "            \n",
    "\n",
    "        #bar.update()\n",
    "    return start_label_session\n",
    "#labeler(df)"
   ]
  },
  {
   "cell_type": "code",
   "execution_count": 34,
   "id": "f6ea20ac",
   "metadata": {
    "tags": []
   },
   "outputs": [],
   "source": [
    "# Enter your name below, then run this cell\n",
    "name = \"Nicolas Rault-Wang\""
   ]
  },
  {
   "cell_type": "code",
   "execution_count": 37,
   "id": "e3eed24c-eec5-41c0-8803-3ecaed8162ac",
   "metadata": {
    "deletable": false,
    "editable": false,
    "tags": []
   },
   "outputs": [
    {
     "name": "stdout",
     "output_type": "stream",
     "text": [
      "All available data is labeled! 😀\n"
     ]
    }
   ],
   "source": [
    "# Run this cell to start labeling.\n",
    "start_label_session = get_label_session(data, name)\n",
    "start_label_session()"
   ]
  },
  {
   "cell_type": "code",
   "execution_count": 38,
   "id": "3656ea30-3ff1-4ef7-965c-18574c540fa4",
   "metadata": {
    "deletable": false,
    "editable": false,
    "tags": []
   },
   "outputs": [],
   "source": [
    "# Run the cell below to preview your labels and write them to file. (TODO)"
   ]
  },
  {
   "cell_type": "code",
   "execution_count": 39,
   "id": "2ab16cbd",
   "metadata": {},
   "outputs": [
    {
     "name": "stdout",
     "output_type": "stream",
     "text": [
      "                                         uid  data label            username\n",
      "0   da39a3ee5e6b4b0d3255bfef95601890afd80709     0     1  Nicolas Rault-Wang\n",
      "1   5ba93c9db0cff93f52b521d7420e43f6eda2784f     1     2  Nicolas Rault-Wang\n",
      "2   1489f923c4dca729178b3e3233458550d8dddf29     2     1  Nicolas Rault-Wang\n",
      "3   29e2dcfbb16f63bb0254df7585a15bb6fb5e927d     3     2  Nicolas Rault-Wang\n",
      "4   9069ca78e7450a285173431b3e52c5c25299e473     4     1  Nicolas Rault-Wang\n",
      "..                                       ...   ...   ...                 ...\n",
      "95  bd057d7f49143824e45263147a02a580137fabef    95     1  Nicolas Rault-Wang\n",
      "96  c49a9785b2243f2f080daad1747f119acceccfa5    96     2  Nicolas Rault-Wang\n",
      "97  fa205d2a65684c6245a2272facf45fb12ace4014    97     1  Nicolas Rault-Wang\n",
      "98  a568e30784b1df87b30e1d4a2234de7b706b3d27    98     2  Nicolas Rault-Wang\n",
      "99  d991c16949bd5e85e768385440e18d493ce3aa46    99     1  Nicolas Rault-Wang\n",
      "\n",
      "[100 rows x 4 columns]\n"
     ]
    }
   ],
   "source": [
    "print(data)"
   ]
  },
  {
   "cell_type": "code",
   "execution_count": null,
   "id": "b0b1dbb8",
   "metadata": {},
   "outputs": [],
   "source": []
  }
 ],
 "metadata": {
  "kernelspec": {
   "display_name": "Python 3 (ipykernel)",
   "language": "python",
   "name": "python3"
  },
  "language_info": {
   "codemirror_mode": {
    "name": "ipython",
    "version": 3
   },
   "file_extension": ".py",
   "mimetype": "text/x-python",
   "name": "python",
   "nbconvert_exporter": "python",
   "pygments_lexer": "ipython3",
   "version": "3.11.5"
  }
 },
 "nbformat": 4,
 "nbformat_minor": 5
}
