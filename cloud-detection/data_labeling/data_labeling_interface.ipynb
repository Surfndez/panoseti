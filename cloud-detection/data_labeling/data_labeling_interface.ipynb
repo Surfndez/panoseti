{
 "cells": [
  {
   "cell_type": "markdown",
   "id": "f93263c9",
   "metadata": {},
   "source": [
    "## Instructions\n",
    "\n",
    "This notebook is an image labeling interface that will enable us to train an ML model for identifying sky conditions.\n",
    "\n",
    "You will be shown a series of images and prompted to classify them as belonging to one of several categories.\n",
    "\n",
    "To begin, run each of the following cells with <kbd>SHIFT ENTER</kbd>.\n",
    "\n",
    "### Troubleshooting\n",
    "\n",
    "1. Input bar does not appear or the program is frozen.\n",
    "    * Click out of the cell, type <kbd>i</kbd> twice, then rerun the cell. (You may need to do this more than once.)\n",
    "2. Images are hidden by a scroll box.\n",
    "    * Click out of the cell, type <kbd>SHIFT O</kbd> , then rerun the cell.\n",
    "3. Images are too big.\n",
    "    * Make this webpage smaller by zooming out. (On Chrome: <kbd>CMD -</kbd>)"
   ]
  },
  {
   "cell_type": "code",
   "execution_count": 1,
   "id": "87a9994a-0786-4fa8-8637-30ff0445781e",
   "metadata": {
    "tags": []
   },
   "outputs": [],
   "source": [
    "import pandas as pd\n",
    "from label_session import LabelSession"
   ]
  },
  {
   "cell_type": "code",
   "execution_count": 2,
   "id": "95f1cf53",
   "metadata": {
    "slideshow": {
     "slide_type": "-"
    },
    "tags": []
   },
   "outputs": [],
   "source": [
    "# Please enter your name below and the ID number of the batch you'll be labeling\n",
    "name = \"Nicolas Rault-Wang\"\n",
    "batch_id = 0\n",
    "session = LabelSession(name, batch_id)"
   ]
  },
  {
   "cell_type": "code",
   "execution_count": 13,
   "id": "9905ab20-5139-4e78-bab1-2326aa3768b0",
   "metadata": {
    "deletable": false,
    "editable": false,
    "tags": []
   },
   "outputs": [
    {
     "name": "stdout",
     "output_type": "stream",
     "text": [
      "|▓░░░░░░░░░░░░░░░░░░░░░░░░░░░░░░░░░░░░░░░░░░░░░░░░░|\t47/1317 (3.57%)\n",
      "\n",
      "Exiting and saving your labels...\n"
     ]
    }
   ],
   "source": [
    "## Run this cell to begin labeling\n",
    "session.start()"
   ]
  },
  {
   "cell_type": "code",
   "execution_count": null,
   "id": "fae27561",
   "metadata": {
    "deletable": false,
    "tags": []
   },
   "outputs": [],
   "source": [
    "# Run the cell below to preview your labels and write them to file\n",
    "show_classifications(labeled_data, skycam_df, skycam_dir)"
   ]
  },
  {
   "cell_type": "code",
   "execution_count": null,
   "id": "3158a832",
   "metadata": {},
   "outputs": [],
   "source": [
    "## Data saving routines\n",
    "\n",
    "def get_data_out_dir(user_uid, batch_id):\n",
    "    return f'{user_uid}, '\n",
    "\n",
    "\n",
    "            \n",
    "def write_data(labeled_df, skycam_df, user_df):\n",
    "    os.mkdir(get_data_out_dir)\n",
    "    ..."
   ]
  }
 ],
 "metadata": {
  "celltoolbar": "Edit Metadata",
  "kernelspec": {
   "display_name": "Python 3 (ipykernel)",
   "language": "python",
   "name": "python3"
  },
  "language_info": {
   "codemirror_mode": {
    "name": "ipython",
    "version": 3
   },
   "file_extension": ".py",
   "mimetype": "text/x-python",
   "name": "python",
   "nbconvert_exporter": "python",
   "pygments_lexer": "ipython3",
   "version": "3.11.5"
  }
 },
 "nbformat": 4,
 "nbformat_minor": 5
}
