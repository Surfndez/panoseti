{
 "cells": [
  {
   "cell_type": "markdown",
   "id": "f93263c9",
   "metadata": {},
   "source": [
    "## Instructions\n",
    "\n",
    "This notebook is an interface for classifying PANOSETI and all-sky camera images for machine learning purposes.\n",
    "\n",
    "You will be shown a series of images and prompted to classify them as belonging to one of several categories.\n",
    "\n",
    "To begin, run each of the following cells with <kbd>SHIFT ENTER</kbd>.\n",
    "\n",
    "### Troubleshooting\n",
    "\n",
    "1. Input bar does not appear or the program is frozen.\n",
    "    * Click out of the cell, type <kbd>i</kbd> twice, then rerun the cell. (You may need to do this more than once.)\n",
    "2. Images are hidden by a scroll box.\n",
    "    * Click out of the cell, type <kbd>SHIFT O</kbd> , then rerun the cell.\n",
    "3. Images are too big.\n",
    "    * Make this webpage smaller by zooming out. (On Chrome: <kbd>CMD -</kbd>)"
   ]
  },
  {
   "cell_type": "code",
   "execution_count": null,
   "id": "87a9994a-0786-4fa8-8637-30ff0445781e",
   "metadata": {
    "tags": []
   },
   "outputs": [],
   "source": [
    "import pandas as pd\n",
    "from data_labeling_utils import init_skycam_df, add_user, get_label_session, show_classifications"
   ]
  },
  {
   "cell_type": "code",
   "execution_count": null,
   "id": "a5d06818",
   "metadata": {
    "tags": []
   },
   "outputs": [],
   "source": [
    "# Database formats\n",
    "user_metadata = pd.DataFrame(columns=['user_uid', 'name'])\n",
    "skycam_img_metadata = pd.DataFrame(columns=['img_uid', 'fname', 'skycam'])\n",
    "unlabeled_data = pd.DataFrame(columns=['img_uid', 'is_labeled'])\n",
    "labeled_data = pd.DataFrame(columns=['img_uid', 'user_uid', 'label'])"
   ]
  },
  {
   "cell_type": "code",
   "execution_count": null,
   "id": "3f9e8b9d",
   "metadata": {
    "tags": []
   },
   "outputs": [],
   "source": [
    "skycam_dir = 'SC2_imgs_2023-08-01'\n",
    "\n",
    "init_skycam_df(skycam_img_metadata, unlabeled_data, skycam_dir)"
   ]
  },
  {
   "cell_type": "code",
   "execution_count": null,
   "id": "95f1cf53",
   "metadata": {
    "slideshow": {
     "slide_type": "-"
    },
    "tags": []
   },
   "outputs": [],
   "source": [
    "# Enter your name below, then run this cell\n",
    "name = \"Nicolas Rault-Wang\"\n",
    "user_uid = add_user(user_metadata, name)"
   ]
  },
  {
   "cell_type": "code",
   "execution_count": null,
   "id": "7eaee0a3-d0b6-4d23-9e10-e241f265801a",
   "metadata": {
    "deletable": false,
    "editable": false,
    "tags": []
   },
   "outputs": [],
   "source": [
    "label_session = get_label_session(labeled_data, unlabeled_data, skycam_img_metadata, skycam_dir)\n",
    "label_session(user_uid)"
   ]
  },
  {
   "cell_type": "code",
   "execution_count": null,
   "id": "fae27561",
   "metadata": {
    "deletable": false,
    "editable": false,
    "tags": []
   },
   "outputs": [],
   "source": [
    "# Run the cell below to preview your labels and write them to file\n",
    "show_classifications(labeled_data, skycam_img_metadata, skycam_dir)"
   ]
  },
  {
   "cell_type": "code",
   "execution_count": null,
   "id": "3158a832",
   "metadata": {},
   "outputs": [],
   "source": [
    "## Data saving routines\n",
    "\n",
    "def get_data_out_dir(user_uid):\n",
    "    return f'{user_uid}_data_labels'\n",
    "            \n",
    "def write_data(labeled_df, skycam_df, user_df):\n",
    "    os.mkdir(get_data_out_dir)\n",
    "    ..."
   ]
  }
 ],
 "metadata": {
  "celltoolbar": "Edit Metadata",
  "kernelspec": {
   "display_name": "Python 3 (ipykernel)",
   "language": "python",
   "name": "python3"
  },
  "language_info": {
   "codemirror_mode": {
    "name": "ipython",
    "version": 3
   },
   "file_extension": ".py",
   "mimetype": "text/x-python",
   "name": "python",
   "nbconvert_exporter": "python",
   "pygments_lexer": "ipython3",
   "version": "3.11.5"
  }
 },
 "nbformat": 4,
 "nbformat_minor": 5
}
