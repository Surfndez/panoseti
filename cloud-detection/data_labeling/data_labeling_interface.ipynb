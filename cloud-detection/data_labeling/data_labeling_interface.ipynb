{
 "cells": [
  {
   "cell_type": "markdown",
   "id": "f93263c9",
   "metadata": {},
   "source": [
    "## Instructions\n",
    "\n",
    "This notebook is an image labeling interface that will enable us to train an ML model for identifying sky conditions.\n",
    "\n",
    "You will be shown a series of images and prompted to classify them as belonging to one of several categories.\n",
    "\n",
    "To begin, run each of the following cells with <kbd>SHIFT ENTER</kbd>.\n",
    "\n",
    "### Troubleshooting\n",
    "\n",
    "1. Input bar does not appear or the program is frozen.\n",
    "    * Click out of the cell, type <kbd>i</kbd> twice, then rerun the cell. (You may need to do this more than once.)\n",
    "2. Images are hidden by a scroll box.\n",
    "    * Click out of the cell, type <kbd>SHIFT O</kbd> , then rerun the cell.\n",
    "3. Images are too big.\n",
    "    * Make this webpage smaller by zooming out. (On Chrome: <kbd>CMD -</kbd>)"
   ]
  },
  {
   "cell_type": "code",
   "execution_count": 4,
   "id": "87a9994a-0786-4fa8-8637-30ff0445781e",
   "metadata": {
    "tags": []
   },
   "outputs": [
    {
     "data": {
      "text/plain": [
       "<Figure size 1500x1500 with 0 Axes>"
      ]
     },
     "metadata": {},
     "output_type": "display_data"
    }
   ],
   "source": [
    "import pandas as pd\n",
    "from labeling_utils import *\n",
    "from skycam_utils import get_skycam_dir"
   ]
  },
  {
   "cell_type": "code",
   "execution_count": 6,
   "id": "a5d06818",
   "metadata": {
    "tags": []
   },
   "outputs": [
    {
     "data": {
      "text/html": [
       "<div>\n",
       "<style scoped>\n",
       "    .dataframe tbody tr th:only-of-type {\n",
       "        vertical-align: middle;\n",
       "    }\n",
       "\n",
       "    .dataframe tbody tr th {\n",
       "        vertical-align: top;\n",
       "    }\n",
       "\n",
       "    .dataframe thead th {\n",
       "        text-align: right;\n",
       "    }\n",
       "</style>\n",
       "<table border=\"1\" class=\"dataframe\">\n",
       "  <thead>\n",
       "    <tr style=\"text-align: right;\">\n",
       "      <th></th>\n",
       "      <th>img_uid</th>\n",
       "      <th>fname</th>\n",
       "      <th>skycam</th>\n",
       "      <th>timestamp</th>\n",
       "    </tr>\n",
       "  </thead>\n",
       "  <tbody>\n",
       "  </tbody>\n",
       "</table>\n",
       "</div>"
      ],
      "text/plain": [
       "Empty DataFrame\n",
       "Columns: [img_uid, fname, skycam, timestamp]\n",
       "Index: []"
      ]
     },
     "execution_count": 6,
     "metadata": {},
     "output_type": "execute_result"
    }
   ],
   "source": [
    "# Database formats\n",
    "user_df = get_database('user')\n",
    "skycam_df = get_database('skycam')\n",
    "unlabeled_data = get_database('unlabeled_data')\n",
    "labeled_data = get_database('labeled_data')\n",
    "\n",
    "user_df\n",
    "skycam_df"
   ]
  },
  {
   "cell_type": "code",
   "execution_count": null,
   "id": "7aa1645a-f9bb-421a-af2b-2df20538db37",
   "metadata": {
    "tags": []
   },
   "outputs": [],
   "source": [
    "skycam_dir = get_skycam_dir('SC2', 2023, 8, 1)\n",
    "skycam_dir"
   ]
  },
  {
   "cell_type": "code",
   "execution_count": null,
   "id": "b76c3212-3254-4148-9d55-98dcafb13606",
   "metadata": {
    "tags": []
   },
   "outputs": [],
   "source": [
    "get_uid(\"Nicolas Rault-Wang\")"
   ]
  },
  {
   "cell_type": "code",
   "execution_count": null,
   "id": "3f9e8b9d",
   "metadata": {
    "tags": []
   },
   "outputs": [],
   "source": [
    "init_skycam_df(skycam_df, unlabeled_data, skycam_dir)"
   ]
  },
  {
   "cell_type": "code",
   "execution_count": null,
   "id": "95f1cf53",
   "metadata": {
    "slideshow": {
     "slide_type": "-"
    },
    "tags": []
   },
   "outputs": [],
   "source": [
    "# Please enter your name below and the id of the batch you'll be labeling\n",
    "name = \"Nicolas Rault-Wang\"\n",
    "batch_id = 0\n",
    "\n",
    "user_uid = add_user(user_df, name)"
   ]
  },
  {
   "cell_type": "code",
   "execution_count": null,
   "id": "7eaee0a3-d0b6-4d23-9e10-e241f265801a",
   "metadata": {
    "deletable": false,
    "editable": false,
    "tags": []
   },
   "outputs": [],
   "source": [
    "label_session = get_label_session(labeled_data, unlabeled_data, skycam_df, skycam_dir)\n",
    "label_session(user_uid)"
   ]
  },
  {
   "cell_type": "code",
   "execution_count": null,
   "id": "fae27561",
   "metadata": {
    "deletable": false,
    "editable": false,
    "tags": []
   },
   "outputs": [],
   "source": [
    "# Run the cell below to preview your labels and write them to file\n",
    "show_classifications(labeled_data, skycam_df, skycam_dir)"
   ]
  },
  {
   "cell_type": "code",
   "execution_count": null,
   "id": "3158a832",
   "metadata": {},
   "outputs": [],
   "source": [
    "## Data saving routines\n",
    "\n",
    "def get_data_out_dir(user_uid, batch_id):\n",
    "    return f'{user_uid}, '\n",
    "\n",
    "\n",
    "            \n",
    "def write_data(labeled_df, skycam_df, user_df):\n",
    "    os.mkdir(get_data_out_dir)\n",
    "    ..."
   ]
  }
 ],
 "metadata": {
  "celltoolbar": "Edit Metadata",
  "kernelspec": {
   "display_name": "Python 3 (ipykernel)",
   "language": "python",
   "name": "python3"
  },
  "language_info": {
   "codemirror_mode": {
    "name": "ipython",
    "version": 3
   },
   "file_extension": ".py",
   "mimetype": "text/x-python",
   "name": "python",
   "nbconvert_exporter": "python",
   "pygments_lexer": "ipython3",
   "version": "3.11.5"
  }
 },
 "nbformat": 4,
 "nbformat_minor": 5
}
