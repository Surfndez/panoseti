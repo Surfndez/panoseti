{
 "cells": [
  {
   "cell_type": "markdown",
   "id": "f93263c9",
   "metadata": {},
   "source": [
    "## Instructions\n",
    "\n",
    "This notebook is an image labeling interface that will enable us to train an ML model for identifying sky conditions.\n",
    "\n",
    "You will be shown a series of images and prompted to classify them as belonging to one of several categories.\n",
    "\n",
    "To begin, run each of the following cells with <kbd>SHIFT ENTER</kbd>.\n",
    "\n",
    "### Troubleshooting\n",
    "\n",
    "1. Input bar does not appear or the program is frozen.\n",
    "    * Click out of the cell, type <kbd>i</kbd> twice, then rerun the cell. (You may need to do this more than once.)\n",
    "2. Images are hidden by a scroll box.\n",
    "    * Click out of the cell, type <kbd>SHIFT O</kbd> , then rerun the cell.\n",
    "3. Images are too big.\n",
    "    * Make this webpage smaller by zooming out. (On Chrome: <kbd>CMD -</kbd>)"
   ]
  },
  {
   "cell_type": "code",
   "execution_count": 9,
   "id": "87a9994a-0786-4fa8-8637-30ff0445781e",
   "metadata": {
    "tags": []
   },
   "outputs": [],
   "source": [
    "import pandas as pd\n",
    "from labeling_utils import *\n",
    "from skycam_utils import get_skycam_dir"
   ]
  },
  {
   "cell_type": "code",
   "execution_count": 7,
   "id": "95f1cf53",
   "metadata": {
    "slideshow": {
     "slide_type": "-"
    },
    "tags": []
   },
   "outputs": [],
   "source": [
    "# Please enter your name below and the id of the batch you'll be labeling\n",
    "name = \"Nicolas Rault-Wang\"\n",
    "batch_id = 0\n",
    "\n",
    "#user_uid = add_user(user_df, name)\n",
    "session = LabelSession('cloud-detection', name, batch_id)\n",
    "session.init_skycam_paths()"
   ]
  },
  {
   "cell_type": "code",
   "execution_count": 8,
   "id": "7aa1645a-f9bb-421a-af2b-2df20538db37",
   "metadata": {
    "tags": []
   },
   "outputs": [
    {
     "data": {
      "text/plain": [
       "'SC2_imgs_2023-08-01'"
      ]
     },
     "execution_count": 8,
     "metadata": {},
     "output_type": "execute_result"
    }
   ],
   "source": [
    "skycam_dir = get_skycam_dir('SC2', 2023, 8, 1)\n",
    "skycam_dir"
   ]
  },
  {
   "cell_type": "code",
   "execution_count": 22,
   "id": "2c4a21f6-b076-4cb4-8998-02ae02711443",
   "metadata": {
    "tags": []
   },
   "outputs": [
    {
     "data": {
      "text/html": [
       "<div>\n",
       "<style scoped>\n",
       "    .dataframe tbody tr th:only-of-type {\n",
       "        vertical-align: middle;\n",
       "    }\n",
       "\n",
       "    .dataframe tbody tr th {\n",
       "        vertical-align: top;\n",
       "    }\n",
       "\n",
       "    .dataframe thead th {\n",
       "        text-align: right;\n",
       "    }\n",
       "</style>\n",
       "<table border=\"1\" class=\"dataframe\">\n",
       "  <thead>\n",
       "    <tr style=\"text-align: right;\">\n",
       "      <th></th>\n",
       "      <th>img_uid</th>\n",
       "      <th>fname</th>\n",
       "      <th>type</th>\n",
       "      <th>unix_t</th>\n",
       "    </tr>\n",
       "  </thead>\n",
       "  <tbody>\n",
       "    <tr>\n",
       "      <th>1312</th>\n",
       "      <td>9e7cc01ae1fe2491e0dca1f736961534568466b5</td>\n",
       "      <td>SC2_20231013045700.jpg</td>\n",
       "      <td>SC2</td>\n",
       "      <td>1.697173e+09</td>\n",
       "    </tr>\n",
       "  </tbody>\n",
       "</table>\n",
       "</div>"
      ],
      "text/plain": [
       "                                       img_uid                   fname type  \\\n",
       "1312  9e7cc01ae1fe2491e0dca1f736961534568466b5  SC2_20231013045700.jpg  SC2   \n",
       "\n",
       "            unix_t  \n",
       "1312  1.697173e+09  "
      ]
     },
     "execution_count": 22,
     "metadata": {},
     "output_type": "execute_result"
    }
   ],
   "source": [
    "session.img_df.loc[session.img_df.img_uid == '9e7cc01ae1fe2491e0dca1f736961534568466b5']"
   ]
  },
  {
   "cell_type": "code",
   "execution_count": 5,
   "id": "75559c20-0b13-4c5f-8222-08818f2282ed",
   "metadata": {},
   "outputs": [
    {
     "data": {
      "text/plain": [
       "1690798138.0"
      ]
     },
     "execution_count": 5,
     "metadata": {},
     "output_type": "execute_result"
    }
   ],
   "source": [
    "session.img_df['unix_t'][0]\n",
    "session"
   ]
  },
  {
   "cell_type": "code",
   "execution_count": 6,
   "id": "7eaee0a3-d0b6-4d23-9e10-e241f265801a",
   "metadata": {
    "deletable": false,
    "tags": []
   },
   "outputs": [
    {
     "ename": "TypeError",
     "evalue": "LabelSession.get_img_uid_to_data() takes 2 positional arguments but 3 were given",
     "output_type": "error",
     "traceback": [
      "\u001b[0;31m---------------------------------------------------------------------------\u001b[0m",
      "\u001b[0;31mTypeError\u001b[0m                                 Traceback (most recent call last)",
      "Cell \u001b[0;32mIn[6], line 1\u001b[0m\n\u001b[0;32m----> 1\u001b[0m label_session\u001b[38;5;241m.\u001b[39mstart()\n",
      "File \u001b[0;32m~/panoseti/panoseti-software/cloud-detection/data_labeling/labeling_utils.py:183\u001b[0m, in \u001b[0;36mLabelSession.start\u001b[0;34m(self)\u001b[0m\n\u001b[1;32m    181\u001b[0m \u001b[38;5;28;01mdef\u001b[39;00m \u001b[38;5;21mstart\u001b[39m(\u001b[38;5;28mself\u001b[39m):\n\u001b[1;32m    182\u001b[0m \u001b[38;5;250m    \u001b[39m\u001b[38;5;124;03m\"\"\"Labeling interface that displays an image and prompts user for its class.\"\"\"\u001b[39;00m\n\u001b[0;32m--> 183\u001b[0m     plot_img \u001b[38;5;241m=\u001b[39m \u001b[38;5;28mself\u001b[39m\u001b[38;5;241m.\u001b[39mget_plot_img(\u001b[38;5;28mself\u001b[39m\u001b[38;5;241m.\u001b[39mimg_df)\n\u001b[1;32m    184\u001b[0m     \u001b[38;5;28;01mif\u001b[39;00m \u001b[38;5;28mself\u001b[39m\u001b[38;5;241m.\u001b[39mnum_imgs \u001b[38;5;241m==\u001b[39m \u001b[38;5;241m0\u001b[39m:\n\u001b[1;32m    185\u001b[0m         \u001b[38;5;28mprint\u001b[39m(\u001b[38;5;124m\"\u001b[39m\u001b[38;5;124mAll data are labeled! \u001b[39m\u001b[38;5;130;01m\\N{grinning face}\u001b[39;00m\u001b[38;5;124m\"\u001b[39m)\n",
      "File \u001b[0;32m~/panoseti/panoseti-software/cloud-detection/data_labeling/labeling_utils.py:80\u001b[0m, in \u001b[0;36mLabelSession.get_plot_img\u001b[0;34m(self, skycam_dir)\u001b[0m\n\u001b[1;32m     78\u001b[0m \u001b[38;5;28;01mdef\u001b[39;00m \u001b[38;5;21mget_plot_img\u001b[39m(\u001b[38;5;28mself\u001b[39m, skycam_dir):\n\u001b[1;32m     79\u001b[0m \u001b[38;5;250m    \u001b[39m\u001b[38;5;124;03m\"\"\"Given an image uid, display the corresponding image.\"\"\"\u001b[39;00m\n\u001b[0;32m---> 80\u001b[0m     img_uid_to_data \u001b[38;5;241m=\u001b[39m \u001b[38;5;28mself\u001b[39m\u001b[38;5;241m.\u001b[39mget_img_uid_to_data(\u001b[38;5;28mself\u001b[39m\u001b[38;5;241m.\u001b[39mimg_df, skycam_dir)\n\u001b[1;32m     82\u001b[0m     \u001b[38;5;28;01mdef\u001b[39;00m \u001b[38;5;21mplot_img\u001b[39m(img_uid):\n\u001b[1;32m     83\u001b[0m         fig \u001b[38;5;241m=\u001b[39m plt\u001b[38;5;241m.\u001b[39mfigure(figsize\u001b[38;5;241m=\u001b[39m(\u001b[38;5;241m15\u001b[39m, \u001b[38;5;241m15\u001b[39m))\n",
      "\u001b[0;31mTypeError\u001b[0m: LabelSession.get_img_uid_to_data() takes 2 positional arguments but 3 were given"
     ]
    }
   ],
   "source": [
    "label_session.start()"
   ]
  },
  {
   "cell_type": "code",
   "execution_count": null,
   "id": "fae27561",
   "metadata": {
    "deletable": false,
    "tags": []
   },
   "outputs": [],
   "source": [
    "# Run the cell below to preview your labels and write them to file\n",
    "show_classifications(labeled_data, skycam_df, skycam_dir)"
   ]
  },
  {
   "cell_type": "code",
   "execution_count": null,
   "id": "3158a832",
   "metadata": {},
   "outputs": [],
   "source": [
    "## Data saving routines\n",
    "\n",
    "def get_data_out_dir(user_uid, batch_id):\n",
    "    return f'{user_uid}, '\n",
    "\n",
    "\n",
    "            \n",
    "def write_data(labeled_df, skycam_df, user_df):\n",
    "    os.mkdir(get_data_out_dir)\n",
    "    ..."
   ]
  }
 ],
 "metadata": {
  "celltoolbar": "Edit Metadata",
  "kernelspec": {
   "display_name": "Python 3 (ipykernel)",
   "language": "python",
   "name": "python3"
  },
  "language_info": {
   "codemirror_mode": {
    "name": "ipython",
    "version": 3
   },
   "file_extension": ".py",
   "mimetype": "text/x-python",
   "name": "python",
   "nbconvert_exporter": "python",
   "pygments_lexer": "ipython3",
   "version": "3.11.5"
  }
 },
 "nbformat": 4,
 "nbformat_minor": 5
}
