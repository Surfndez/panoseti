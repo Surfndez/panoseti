{
 "cells": [
  {
   "cell_type": "markdown",
   "id": "f93263c9",
   "metadata": {
    "deletable": false,
    "editable": false,
    "tags": []
   },
   "source": [
    "# Instructions\n",
    "\n",
    "This notebook is an image labeling interface that we'll use to train an automated sky-quality classifier.\n",
    "\n",
    "You will be shown a series of images and prompted to assign each to one of several categories.\n",
    "\n",
    "Run each of the following cells with <kbd>SHIFT ENTER</kbd>."
   ]
  },
  {
   "cell_type": "markdown",
   "id": "61e69f02",
   "metadata": {
    "deletable": false,
    "editable": false
   },
   "source": [
    "### Troubleshooting\n",
    "\n",
    "1. Input bar does not appear or the program is frozen.\n",
    "    * Click out of the cell, type <kbd>i</kbd> twice, then rerun the cell. (You may need to do this more than once.)\n",
    "2. Images are hidden by a scroll box.\n",
    "    * Click out of the cell, type <kbd>SHIFT O</kbd> , then rerun the cell.\n",
    "3. Images are too big.\n",
    "    * Make this webpage smaller by zooming out. (On Chrome: <kbd>CMD -</kbd>)"
   ]
  },
  {
   "cell_type": "code",
   "execution_count": null,
   "id": "95f1cf53",
   "metadata": {
    "deletable": false,
    "slideshow": {
     "slide_type": "-"
    },
    "tags": []
   },
   "outputs": [],
   "source": [
    "# Please add your name and a batch ID number.\n",
    "# Note: zipped batch data should be uploaded to the the batch_data/ folder before labeling.\n",
    "\n",
    "name = \"YOUR NAME\"\n",
    "batch_id = 0"
   ]
  },
  {
   "cell_type": "code",
   "execution_count": null,
   "id": "2c33a2bf-0a6c-41e4-8ed7-6335cf7db541",
   "metadata": {
    "deletable": false,
    "editable": false,
    "tags": []
   },
   "outputs": [],
   "source": [
    "# Run this cell to begin labeling\n",
    "from label_session import LabelSession\n",
    "try:\n",
    "    session = LabelSession(name, batch_id)\n",
    "    session.start()\n",
    "except Exception as error:\n",
    "    print(f'{type(error).__name__}: {error}')"
   ]
  },
  {
   "cell_type": "code",
   "execution_count": null,
   "id": "fae27561",
   "metadata": {
    "deletable": false,
    "editable": false,
    "tags": []
   },
   "outputs": [],
   "source": [
    "# View all labeled images in this batch\n",
    "session.show_classifications()"
   ]
  },
  {
   "cell_type": "code",
   "execution_count": null,
   "id": "1fced328-64a6-4d52-9f3f-f6f59a5fbe1b",
   "metadata": {
    "deletable": false,
    "editable": false,
    "tags": []
   },
   "outputs": [],
   "source": [
    "# Exports your labels as a zip file\n",
    "session.create_export_zipfile()"
   ]
  }
 ],
 "metadata": {
  "kernelspec": {
   "display_name": "Python 3 (ipykernel)",
   "language": "python",
   "name": "python3"
  },
  "language_info": {
   "codemirror_mode": {
    "name": "ipython",
    "version": 3
   },
   "file_extension": ".py",
   "mimetype": "text/x-python",
   "name": "python",
   "nbconvert_exporter": "python",
   "pygments_lexer": "ipython3",
   "version": "3.11.5"
  }
 },
 "nbformat": 4,
 "nbformat_minor": 5
}
